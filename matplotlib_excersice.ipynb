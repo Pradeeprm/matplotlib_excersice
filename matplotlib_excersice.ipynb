{
  "nbformat": 4,
  "nbformat_minor": 0,
  "metadata": {
    "colab": {
      "provenance": []
    },
    "kernelspec": {
      "name": "python3",
      "display_name": "Python 3"
    },
    "language_info": {
      "name": "python"
    }
  },
  "cells": [
    {
      "cell_type": "markdown",
      "source": [
        "## Exercise 1: Read Total profit of all months and show it using a line plot"
      ],
      "metadata": {
        "id": "Epl9BjL_HVrd"
      }
    },
    {
      "cell_type": "code",
      "execution_count": null,
      "metadata": {
        "id": "He_N5KUwHPhZ"
      },
      "outputs": [],
      "source": []
    },
    {
      "cell_type": "markdown",
      "source": [
        "## Exercise 2: Get total profit of all months and show line plot with the following Style properties"
      ],
      "metadata": {
        "id": "dF-sar8EHlf8"
      }
    },
    {
      "cell_type": "code",
      "source": [],
      "metadata": {
        "id": "PAMwmDTXHy-Q"
      },
      "execution_count": null,
      "outputs": []
    },
    {
      "cell_type": "markdown",
      "source": [
        "# Exercise 3: Read all product sales data and show it  using a multiline plot"
      ],
      "metadata": {
        "id": "tyNdTDHdHzeb"
      }
    },
    {
      "cell_type": "code",
      "source": [],
      "metadata": {
        "id": "92DZtKkHH8hF"
      },
      "execution_count": null,
      "outputs": []
    },
    {
      "cell_type": "markdown",
      "source": [
        "## Exercise 4: Read toothpaste sales data of each month and show it using a scatter plot"
      ],
      "metadata": {
        "id": "_D6JhQFPH85m"
      }
    },
    {
      "cell_type": "code",
      "source": [],
      "metadata": {
        "id": "fx7QAAfOIBdY"
      },
      "execution_count": null,
      "outputs": []
    },
    {
      "cell_type": "markdown",
      "source": [
        "## Exercise 5: Read face cream and facewash product sales data and show it using the bar chart\n"
      ],
      "metadata": {
        "id": "s9YwYad5IB7-"
      }
    },
    {
      "cell_type": "code",
      "source": [],
      "metadata": {
        "id": "l_BlNs3fIJn3"
      },
      "execution_count": null,
      "outputs": []
    },
    {
      "cell_type": "markdown",
      "source": [
        "## Exercise 6: Read sales data of bathing soap of all months and show it using a bar chart. Save this plot to your hard disk"
      ],
      "metadata": {
        "id": "Dk2W1UwgIKAI"
      }
    },
    {
      "cell_type": "code",
      "source": [],
      "metadata": {
        "id": "83DAGtM3IxC5"
      },
      "execution_count": null,
      "outputs": []
    },
    {
      "cell_type": "markdown",
      "source": [
        "### Exercise 7: Read the total profit of each month and show it using the histogram to see the most common profit ranges"
      ],
      "metadata": {
        "id": "ieQz3hmzIx7e"
      }
    },
    {
      "cell_type": "code",
      "source": [],
      "metadata": {
        "id": "HzALWMOII6Ui"
      },
      "execution_count": null,
      "outputs": []
    },
    {
      "cell_type": "markdown",
      "source": [
        "## Exercise 8: Calculate total sale data for last year for each product and show it using a Pie chart"
      ],
      "metadata": {
        "id": "3Y5Pk0-DI60q"
      }
    },
    {
      "cell_type": "code",
      "source": [],
      "metadata": {
        "id": "AH-VHVCJJBj-"
      },
      "execution_count": null,
      "outputs": []
    },
    {
      "cell_type": "markdown",
      "source": [
        "## Exercise 9: Read Bathing soap facewash of all months and display it using the Subplot"
      ],
      "metadata": {
        "id": "ypGD0SuoJCJy"
      }
    },
    {
      "cell_type": "code",
      "source": [],
      "metadata": {
        "id": "x8-yb42aJSZd"
      },
      "execution_count": null,
      "outputs": []
    },
    {
      "cell_type": "markdown",
      "source": [
        "### Exercise Question 10: Read all product sales data and show it using the stack plot"
      ],
      "metadata": {
        "id": "N7yCWpDhJSzE"
      }
    },
    {
      "cell_type": "code",
      "source": [],
      "metadata": {
        "id": "qNXOGQGcJZaG"
      },
      "execution_count": null,
      "outputs": []
    }
  ]
}